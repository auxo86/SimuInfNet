{
 "cells": [
  {
   "cell_type": "code",
   "execution_count": 1,
   "id": "d0c94c00-b87e-4e6d-b487-ea90f3415eaa",
   "metadata": {},
   "outputs": [],
   "source": [
    "import sqlite3\n",
    "import random\n",
    "from pyvis.network import Network\n",
    "import networkx as nx\n",
    "from functools import reduce"
   ]
  },
  {
   "cell_type": "code",
   "execution_count": 2,
   "id": "8ca7fa01-9d0a-4b5f-ae98-2a6902b7f190",
   "metadata": {},
   "outputs": [],
   "source": [
    "iVaccInfProb = 0\n",
    "hexInfColor = '#fc0303'\n",
    "hexVaccColor = '#7cff0a'\n",
    "# 第一個被感染的人\n",
    "iFirstInfPid = 0\n",
    "\n",
    "listMaxConn = [1, 3, 9, 50]\n",
    "listWtOfChoiceMaxConn = [2, 11, 13, 5]\n",
    "dictInfectivity = {1: 0, 2: 0, 3: 0, 4: 0.6, 5: 0.7, 6: 0.6, 7: 0.4, 8: 0.2, 9: 0.1, 10: 0}\n",
    "iDays = 20 \n",
    "iPopCnt = 500\n",
    "listPR = []"
   ]
  },
  {
   "cell_type": "code",
   "execution_count": 3,
   "id": "5e87c2d4-a9d3-48b6-8d32-d3efb7861ace",
   "metadata": {},
   "outputs": [],
   "source": [
    "class Person:\n",
    "    def __init__(self, iPid, boolInfFlag=False, floatInfProbability=0, boolIfVacc=False, iInfDays=0):\n",
    "        self.pid = iPid\n",
    "        self.boolIfInf = boolInfFlag\n",
    "        self.boolIfVacc = boolIfVacc\n",
    "        self.floatInfProbability = floatInfProbability\n",
    "        self.iInfDays=iInfDays\n",
    "        \n",
    "    def IsInfected(self):\n",
    "        self.boolIfInf = True\n",
    "        \n",
    "    def IsVacced(self):\n",
    "        self.boolIfInf = False\n",
    "        self.boolIfVacc = True\n",
    "        self.floatInfProbability = iVaccInfProb\n",
    "        \n",
    "    def ResetInfStatus(self):\n",
    "        self.boolIfInf = False\n",
    "        self.boolIfVacc=False\n",
    "        self.floatInfProbability = 0\n",
    "        self.iInfDays = 0"
   ]
  },
  {
   "cell_type": "code",
   "execution_count": 4,
   "id": "48519afc-f1a6-46d9-a7fb-6349ef29ca5f",
   "metadata": {},
   "outputs": [],
   "source": [
    "def getRelatePidsWithThisMan(iPid, listAllPopRels):\n",
    "    listRelsWithThisPerson = list(filter(lambda x: x[0] == person.pid or x[1] == person.pid, listAllPopRels))\n",
    "    if listRelsWithThisPerson == []:\n",
    "        return []\n",
    "    # 挑出跟這個人有關的人際關係\n",
    "    listGrpMightBeInf = list(set(reduce(lambda x, y: x + y, listRelsWithThisPerson)))\n",
    "    # 移除這個人\n",
    "    listGrpMightBeInf.remove(person.pid)\n",
    "    return listGrpMightBeInf\n",
    "\n",
    "def NetworkMaterialization(listAllPop, listAllPopRels, sNetworkName):\n",
    "    netPRInf = Network(height='750px', width='100%', bgcolor='#222222', font_color='white')\n",
    "    for person in listAllPop:\n",
    "        if person.boolIfInf == True:\n",
    "            netPRInf.add_node(person.pid, title=str(person.pid), color=hexInfColor, value=10)\n",
    "        elif person.boolIfVacc == True:\n",
    "            netPRInf.add_node(person.pid, title=str(person.pid), color=hexVaccColor, value=10)\n",
    "        else:\n",
    "            netPRInf.add_node(person.pid, title=str(person.pid), value=10)\n",
    "    \n",
    "    for relation in listAllPopRels:\n",
    "        netPRInf.add_edge(relation[0], relation[1])\n",
    "    \n",
    "    netPRInf.barnes_hut()\n",
    "    netPRInf.show(f'{sNetworkName}.html')"
   ]
  },
  {
   "cell_type": "code",
   "execution_count": 5,
   "id": "fc976d45-80a7-420a-9a75-6fdd5d99e4cf",
   "metadata": {},
   "outputs": [],
   "source": [
    "connPR = sqlite3.connect('./PeopleRelation.db')\n",
    "cur = connPR.cursor()"
   ]
  },
  {
   "cell_type": "code",
   "execution_count": 6,
   "id": "bf8ab046-86d4-41c8-92a7-1e7c25aaa5f8",
   "metadata": {},
   "outputs": [
    {
     "data": {
      "text/plain": [
       "<sqlite3.Cursor at 0x7f5109cde650>"
      ]
     },
     "execution_count": 6,
     "metadata": {},
     "output_type": "execute_result"
    }
   ],
   "source": [
    "# drop 所有表格\n",
    "cur.execute('drop table if exists Relation')\n",
    "cur.execute('drop table if exists People')"
   ]
  },
  {
   "cell_type": "code",
   "execution_count": 7,
   "id": "bff9eef9-6126-4549-96c0-84409298fb61",
   "metadata": {},
   "outputs": [
    {
     "data": {
      "text/plain": [
       "<sqlite3.Cursor at 0x7f5109cde650>"
      ]
     },
     "execution_count": 7,
     "metadata": {},
     "output_type": "execute_result"
    }
   ],
   "source": [
    "cur.execute(\n",
    "'''\n",
    "    create table if not exists People( pid integer not null primary key )\n",
    "''')\n",
    "\n",
    "cur.execute(\n",
    "'''\n",
    "    create table if not exists Relation( pid integer not null,\n",
    "    pidconn integer not null,\n",
    "    primary key(pid,\n",
    "    pidconn),\n",
    "    foreign key (pid) references People(pid),\n",
    "    foreign key (pidconn) references People(pid) )\n",
    "''')"
   ]
  },
  {
   "cell_type": "code",
   "execution_count": 8,
   "id": "a866f485-580c-4df7-a977-e5d7f72043e3",
   "metadata": {},
   "outputs": [],
   "source": [
    "listPeople = [Person(x) for x in range(iPopCnt)]"
   ]
  },
  {
   "cell_type": "code",
   "execution_count": 9,
   "id": "d4ac0de4-7fcc-4257-8c5f-21679115c3d7",
   "metadata": {},
   "outputs": [],
   "source": [
    "# insert data into table People\n",
    "for person in listPeople:\n",
    "    cur.execute(f'insert into People values({person.pid})')\n",
    "connPR.commit()"
   ]
  },
  {
   "cell_type": "code",
   "execution_count": 10,
   "id": "0764f390-3692-4d6e-91f9-0a29e44e4cb9",
   "metadata": {},
   "outputs": [],
   "source": [
    "# 模擬人與人之間的接觸關係\n",
    "listPR = []\n",
    "for person in listPeople:\n",
    "    iRandconnCnt = random.choices(listMaxConn, listWtOfChoiceMaxConn)[0]\n",
    "    # 把 person 挑掉\n",
    "    listPeopleWithoutPerson = [x for x in listPeople if x.pid != person.pid]\n",
    "    # 根據隨機選出的 MaxConn 數目挑出可能接觸的 pid\n",
    "    listPidConnTo = random.choices(listPeopleWithoutPerson, k=iRandconnCnt)\n",
    "\n",
    "    for PersonConnTo in listPidConnTo:\n",
    "        if person.pid < PersonConnTo.pid:\n",
    "            tuplePR = (person.pid, PersonConnTo.pid)\n",
    "        else:\n",
    "            tuplePR = (PersonConnTo.pid, person.pid)\n",
    "        listPR.append(tuplePR)\n",
    "listPR = list(set(listPR))"
   ]
  },
  {
   "cell_type": "code",
   "execution_count": 11,
   "id": "a7cb0713-14e4-4950-b1b6-331e5f559a1d",
   "metadata": {},
   "outputs": [],
   "source": [
    "cur.executemany('insert into Relation values(?, ?)', listPR)\n",
    "connPR.commit()"
   ]
  },
  {
   "cell_type": "code",
   "execution_count": 12,
   "id": "0d8b5463-a431-45c6-8339-8977a46162d8",
   "metadata": {},
   "outputs": [],
   "source": [
    "# 畫出未受感染的群體\n",
    "NetworkMaterialization(listPeople, listPR, 'NetOrig')"
   ]
  },
  {
   "cell_type": "code",
   "execution_count": 13,
   "id": "08b7e20d-c080-4a6a-91ae-0cd67f3c38c6",
   "metadata": {},
   "outputs": [],
   "source": [
    "# 未施予疫苗保護的群體\n",
    "for person in listPeople:\n",
    "    person.ResetInfStatus()\n",
    "\n",
    "listPeople[iFirstInfPid].IsInfected()\n",
    "\n",
    "for day in range(iDays):\n",
    "    for person in listPeople:\n",
    "        listRelationsWithThisPerson = list(filter(lambda x: x[0] == person.pid or x[1] == person.pid, listPR))\n",
    "        if listRelationsWithThisPerson == []:\n",
    "            continue\n",
    "        # 挑出跟這個人有關的人際關係\n",
    "        listMightBeInfPids = list(set(reduce(lambda x, y: x + y, listRelationsWithThisPerson)))\n",
    "        # 移除這個人\n",
    "        listMightBeInfPids.remove(person.pid)\n",
    "        # 如果被感染就感染天數開始加一，這個天數會影響感染機率\n",
    "        if person.boolIfInf == True:\n",
    "            person.iInfDays += 1\n",
    "        # 如果感染機率大於 0 ，就開始感染過程。\n",
    "        # 首先依照被感染天數決定感染機率\n",
    "        person.floatInfProbability = dictInfectivity.get(person.iInfDays, 0)\n",
    "        # print(person.pid, person.boolIfInf, person.iInfDays, person.floatInfProbability)\n",
    "\n",
    "        if person.floatInfProbability > 0:\n",
    "            # 根據這個人的感染機率隨機挑人\n",
    "            listBeInfPids = random.sample(listMightBeInfPids, k=round(len(listMightBeInfPids) * person.floatInfProbability))\n",
    "            for iInfPid in listBeInfPids:\n",
    "                listPeople[iInfPid].IsInfected()\n",
    "\n",
    "NetworkMaterialization(listPeople, listPR, 'NetOrigInf')"
   ]
  },
  {
   "cell_type": "code",
   "execution_count": 14,
   "id": "dcdfb897-a72f-4526-9677-27e754de1e6e",
   "metadata": {},
   "outputs": [
    {
     "data": {
      "text/plain": [
       "0"
      ]
     },
     "execution_count": 14,
     "metadata": {},
     "output_type": "execute_result"
    }
   ],
   "source": [
    "len(list(filter(lambda x: x.boolIfInf == False, listPeople)))"
   ]
  },
  {
   "cell_type": "code",
   "execution_count": 15,
   "id": "e12f6966-c516-4e0d-b442-8293c6ca4b2b",
   "metadata": {},
   "outputs": [],
   "source": [
    "listPidContactCnt = []\n",
    "for person in listPeople:\n",
    "    listMightBeInfPids = getRelatePidsWithThisMan(person.pid, listPR)\n",
    "    listPidContactCnt.append((person.pid, len(listMightBeInfPids)))\n",
    "listPidContactCnt = list(filter(lambda x: x[0] != 0, listPidContactCnt))\n",
    "listTop100PidContactCnt = sorted(listPidContactCnt, key=lambda x: x[1], reverse=True)[0:100]"
   ]
  },
  {
   "cell_type": "code",
   "execution_count": 16,
   "id": "a1cc719b-3d7d-4efb-aff3-b6ea9939a4e1",
   "metadata": {},
   "outputs": [],
   "source": [
    "# 以接觸最多人數選擇打疫苗族群的策略\n",
    "\n",
    "# 挑出要打疫苗的族群\n",
    "listPidsForVacc = list(map(lambda x: x[0], listTop100PidContactCnt))\n",
    "\n",
    "# 重設 listPeople\n",
    "for person in listPeople:\n",
    "    person.ResetInfStatus()\n",
    "    \n",
    "# 幫接觸最多人的族群前 100 名打疫苗    \n",
    "for PidForVac in listPidsForVacc:\n",
    "    listPeople[PidForVac].boolIfVacc = True\n",
    "\n",
    "listPeople[iFirstInfPid].IsInfected()\n",
    "\n",
    "for day in range(iDays):\n",
    "    for person in listPeople:\n",
    "        if person.boolIfVacc == True:\n",
    "            continue\n",
    "        listMightBeInfPids = getRelatePidsWithThisMan(person.pid, listPR)\n",
    "        listMightBeInfPids2 = []\n",
    "        for pid in listMightBeInfPids:\n",
    "            if pid in listPidsForVacc:\n",
    "                continue\n",
    "            listMightBeInfPids2.append(pid)\n",
    "        # 如果被感染就感染天數開始加一，這個天數會影響感染機率\n",
    "        if person.boolIfInf == True:\n",
    "            person.iInfDays += 1\n",
    "        # 如果感染機率大於 0 ，就開始感染過程。\n",
    "        # 首先依照被感染天數決定感染機率\n",
    "        person.floatInfProbability = dictInfectivity.get(person.iInfDays, 0)\n",
    "\n",
    "        if person.floatInfProbability > 0:\n",
    "            # 根據這個人的感染機率隨機挑人\n",
    "            listBeInfPids = random.sample(listMightBeInfPids2, k=round(len(listMightBeInfPids2) * person.floatInfProbability))\n",
    "            for iInfPid in listBeInfPids:\n",
    "                listPeople[iInfPid].IsInfected()\n",
    "                    \n",
    "NetworkMaterialization(listPeople, listPR, 'NetVaccByContactCnt')"
   ]
  },
  {
   "cell_type": "code",
   "execution_count": 17,
   "id": "bb68f39f-bdf9-476f-ac21-12839ded9afd",
   "metadata": {},
   "outputs": [],
   "source": [
    "connPR.close()"
   ]
  }
 ],
 "metadata": {
  "kernelspec": {
   "display_name": "Python 3",
   "language": "python",
   "name": "python3"
  },
  "language_info": {
   "codemirror_mode": {
    "name": "ipython",
    "version": 3
   },
   "file_extension": ".py",
   "mimetype": "text/x-python",
   "name": "python",
   "nbconvert_exporter": "python",
   "pygments_lexer": "ipython3",
   "version": "3.9.5"
  }
 },
 "nbformat": 4,
 "nbformat_minor": 5
}
