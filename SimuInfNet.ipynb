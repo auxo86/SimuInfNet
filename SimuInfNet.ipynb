{
 "cells": [
  {
   "cell_type": "code",
   "execution_count": 1,
   "id": "d0c94c00-b87e-4e6d-b487-ea90f3415eaa",
   "metadata": {},
   "outputs": [],
   "source": [
    "import sqlite3\n",
    "import random\n",
    "from pyvis.network import Network\n",
    "import networkx as nx\n",
    "from functools import reduce\n",
    "from math import floor"
   ]
  },
  {
   "cell_type": "code",
   "execution_count": 2,
   "id": "8ca7fa01-9d0a-4b5f-ae98-2a6902b7f190",
   "metadata": {},
   "outputs": [],
   "source": [
    "# 打疫苗之後的感染性\n",
    "iVaccInfProb = 0\n",
    "# 被感染的節點顏色\n",
    "hexInfColor = '#fc0303'\n",
    "# 打過疫苗的節點顏色\n",
    "hexVaccColor = '#7cff0a'\n",
    "# 群體中想要接種的比例\n",
    "floatVaccRatio = 0.4\n",
    "# 預計要看結果的天數\n",
    "iDays = 10 \n",
    "# 上面那個比例要分幾天打完（這個數字要 <= iDays）\n",
    "iVaccDays = 10\n",
    "# 第一個被感染的人\n",
    "iFirstInfPid = 0\n",
    "# 最大可能接觸人數\n",
    "listMaxConn = [1, 3, 9, 50]\n",
    "# 最大可能接觸人數的權重（越大越可能被挑出來）\n",
    "listWtOfChoiceMaxConn = [2, 11, 13, 5]\n",
    "# 依感染天數決定感染力的字典\n",
    "dictInfectivity = {1: 0, 2: 0, 3: 0, 4: 0.6, 5: 0.7, 6: 0.6, 7: 0.4, 8: 0.2, 9: 0.1, 10: 0}\n",
    "# 族群母數\n",
    "iPopCnt = 500\n",
    "# 用來紀錄人與人關係的 list\n",
    "listPR = []"
   ]
  },
  {
   "cell_type": "code",
   "execution_count": 3,
   "id": "5e87c2d4-a9d3-48b6-8d32-d3efb7861ace",
   "metadata": {},
   "outputs": [],
   "source": [
    "class Person:\n",
    "    def __init__(self, iPid, boolInfFlag=False, floatInfProbability=0, boolIfVacc=False, iInfDays=0):\n",
    "        self.pid = iPid\n",
    "        self.boolIfInf = boolInfFlag\n",
    "        self.boolIfVacc = boolIfVacc\n",
    "        self.floatInfProbability = floatInfProbability\n",
    "        self.iInfDays=iInfDays\n",
    "        \n",
    "    def IsInfected(self):\n",
    "        self.boolIfInf = True\n",
    "        \n",
    "    def IsVacced(self):\n",
    "        self.boolIfInf = False\n",
    "        self.boolIfVacc = True\n",
    "        self.floatInfProbability = iVaccInfProb\n",
    "        \n",
    "    def ResetInfStatus(self):\n",
    "        self.boolIfInf = False\n",
    "        self.boolIfVacc=False\n",
    "        self.floatInfProbability = 0\n",
    "        self.iInfDays = 0"
   ]
  },
  {
   "cell_type": "code",
   "execution_count": 4,
   "id": "48519afc-f1a6-46d9-a7fb-6349ef29ca5f",
   "metadata": {},
   "outputs": [],
   "source": [
    "def getRelatePidsWithThisMan(iPid, listAllPopRels):\n",
    "    listRelsWithThisPerson = list(filter(lambda x: x[0] == iPid or x[1] == iPid, listAllPopRels))\n",
    "    if listRelsWithThisPerson == []:\n",
    "        return []\n",
    "    # 挑出跟這個人有關的人際關係\n",
    "    listGrpMightBeInf = list(set(reduce(lambda x, y: x + y, listRelsWithThisPerson)))\n",
    "    # 移除這個人\n",
    "    listGrpMightBeInf.remove(iPid)\n",
    "    return listGrpMightBeInf\n",
    "\n",
    "def NetworkMaterialization(listAllPop, listAllPopRels, sNetworkName):\n",
    "    netPRInf = Network(height='750px', width='100%', bgcolor='#222222', font_color='white')\n",
    "    for person in listAllPop:\n",
    "        if person.boolIfInf == True:\n",
    "            netPRInf.add_node(person.pid, title=str(person.pid), color=hexInfColor, value=10)\n",
    "        elif person.boolIfVacc == True:\n",
    "            netPRInf.add_node(person.pid, title=str(person.pid), color=hexVaccColor, value=10)\n",
    "        else:\n",
    "            netPRInf.add_node(person.pid, title=str(person.pid), value=10)\n",
    "    \n",
    "    for relation in listAllPopRels:\n",
    "        netPRInf.add_edge(relation[0], relation[1])\n",
    "    \n",
    "    netPRInf.barnes_hut()\n",
    "    netPRInf.show(f'{sNetworkName}.html')\n",
    "    \n",
    "# 把要接種疫苗的總人數依要接種的天數分批\n",
    "def getListChunks(iToBeDivided, iChunkCnt):\n",
    "\tiStep = floor(iToBeDivided/iChunkCnt)\n",
    "\tlistChunks = [iStep] * iChunkCnt\n",
    "\tlistChunks[-1] += iToBeDivided - sum(listChunks)\n",
    "\treturn listChunks\n",
    "    \n",
    "# 找出接觸最多人且沒打過疫苗的人群\n",
    "def getListTopNGrpByContactCntNoVacc(listAllPop, listAllPopRels, iTopN=100, boolSortContactCntReverse=True):\n",
    "    listPidContactCnt = []\n",
    "    # 取出沒有打過疫苗的人們\n",
    "    listAllNotVaccPeople = list(filter(lambda x: x.boolIfVacc is False, listAllPop))\n",
    "    # 沒打過疫苗才有傳染可能\n",
    "    for person in listAllNotVaccPeople:\n",
    "        listMightBeInfPids = getRelatePidsWithThisMan(person.pid, listAllPopRels)\n",
    "        listPidContactCnt.append((person.pid, len(listMightBeInfPids)))\n",
    "    # 0 號不能打疫苗，是第一位感染者。\n",
    "    listPidContactCnt = list(filter(lambda x: x[0] != 0, listPidContactCnt))\n",
    "    listTopNPidsByContactCnt = sorted(listPidContactCnt, key=lambda x: x[1], reverse=boolSortContactCntReverse)[0:iTopN]\n",
    "    return listTopNPidsByContactCnt"
   ]
  },
  {
   "cell_type": "code",
   "execution_count": 5,
   "id": "fc976d45-80a7-420a-9a75-6fdd5d99e4cf",
   "metadata": {},
   "outputs": [],
   "source": [
    "connPR = sqlite3.connect('./PeopleRelation.db')\n",
    "cur = connPR.cursor()"
   ]
  },
  {
   "cell_type": "code",
   "execution_count": 6,
   "id": "bf8ab046-86d4-41c8-92a7-1e7c25aaa5f8",
   "metadata": {},
   "outputs": [
    {
     "data": {
      "text/plain": [
       "<sqlite3.Cursor at 0x7f097962f5e0>"
      ]
     },
     "execution_count": 6,
     "metadata": {},
     "output_type": "execute_result"
    }
   ],
   "source": [
    "# drop 所有表格\n",
    "cur.execute('drop table if exists Relation')\n",
    "cur.execute('drop table if exists People')"
   ]
  },
  {
   "cell_type": "code",
   "execution_count": 7,
   "id": "bff9eef9-6126-4549-96c0-84409298fb61",
   "metadata": {},
   "outputs": [
    {
     "data": {
      "text/plain": [
       "<sqlite3.Cursor at 0x7f097962f5e0>"
      ]
     },
     "execution_count": 7,
     "metadata": {},
     "output_type": "execute_result"
    }
   ],
   "source": [
    "cur.execute(\n",
    "'''\n",
    "    create table if not exists People( pid integer not null primary key )\n",
    "''')\n",
    "\n",
    "cur.execute(\n",
    "'''\n",
    "    create table if not exists Relation( pid integer not null,\n",
    "    pidconn integer not null,\n",
    "    primary key(pid,\n",
    "    pidconn),\n",
    "    foreign key (pid) references People(pid),\n",
    "    foreign key (pidconn) references People(pid) )\n",
    "''')"
   ]
  },
  {
   "cell_type": "code",
   "execution_count": 8,
   "id": "a866f485-580c-4df7-a977-e5d7f72043e3",
   "metadata": {},
   "outputs": [],
   "source": [
    "listPeople = [Person(x) for x in range(iPopCnt)]"
   ]
  },
  {
   "cell_type": "code",
   "execution_count": 9,
   "id": "d4ac0de4-7fcc-4257-8c5f-21679115c3d7",
   "metadata": {},
   "outputs": [],
   "source": [
    "# insert data into table People\n",
    "for person in listPeople:\n",
    "    cur.execute(f'insert into People values({person.pid})')\n",
    "connPR.commit()"
   ]
  },
  {
   "cell_type": "code",
   "execution_count": 10,
   "id": "0764f390-3692-4d6e-91f9-0a29e44e4cb9",
   "metadata": {},
   "outputs": [],
   "source": [
    "# 模擬人與人之間的接觸關係\n",
    "listPR = []\n",
    "for person in listPeople:\n",
    "    iRandconnCnt = random.choices(listMaxConn, listWtOfChoiceMaxConn)[0]\n",
    "    # 把 person 挑掉\n",
    "    listPeopleWithoutPerson = [x for x in listPeople if x.pid != person.pid]\n",
    "    # 根據隨機選出的 MaxConn 數目挑出可能接觸的 pid\n",
    "    listPidConnTo = random.choices(listPeopleWithoutPerson, k=iRandconnCnt)\n",
    "\n",
    "    for PersonConnTo in listPidConnTo:\n",
    "        if person.pid < PersonConnTo.pid:\n",
    "            tuplePR = (person.pid, PersonConnTo.pid)\n",
    "        else:\n",
    "            tuplePR = (PersonConnTo.pid, person.pid)\n",
    "        listPR.append(tuplePR)\n",
    "listPR = list(set(listPR))"
   ]
  },
  {
   "cell_type": "code",
   "execution_count": 11,
   "id": "a7cb0713-14e4-4950-b1b6-331e5f559a1d",
   "metadata": {},
   "outputs": [],
   "source": [
    "cur.executemany('insert into Relation values(?, ?)', listPR)\n",
    "connPR.commit()"
   ]
  },
  {
   "cell_type": "code",
   "execution_count": 12,
   "id": "0d8b5463-a431-45c6-8339-8977a46162d8",
   "metadata": {},
   "outputs": [],
   "source": [
    "# 畫出未受感染的群體\n",
    "NetworkMaterialization(listPeople, listPR, 'NetOrig')"
   ]
  },
  {
   "cell_type": "code",
   "execution_count": 13,
   "id": "08b7e20d-c080-4a6a-91ae-0cd67f3c38c6",
   "metadata": {},
   "outputs": [],
   "source": [
    "# 未施予疫苗保護的群體\n",
    "for person in listPeople:\n",
    "    person.ResetInfStatus()\n",
    "\n",
    "listPeople[iFirstInfPid].IsInfected()\n",
    "\n",
    "for day in range(iDays):\n",
    "    for person in listPeople:\n",
    "        listMightBeInfPids = getRelatePidsWithThisMan(person.pid, listPR)\n",
    "        \n",
    "        # 如果被感染就感染天數開始加一，這個天數會影響感染機率\n",
    "        if person.boolIfInf == True:\n",
    "            person.iInfDays += 1\n",
    "        # 如果感染機率大於 0 ，就開始感染過程。\n",
    "        # 首先依照被感染天數決定感染機率\n",
    "        person.floatInfProbability = dictInfectivity.get(person.iInfDays, 0)\n",
    "        # print(person.pid, person.boolIfInf, person.iInfDays, person.floatInfProbability)\n",
    "\n",
    "        if person.floatInfProbability > 0:\n",
    "            # 根據這個人的感染機率隨機挑人\n",
    "            listBeInfPids = random.sample(listMightBeInfPids, k=round(len(listMightBeInfPids) * person.floatInfProbability))\n",
    "            for iInfPid in listBeInfPids:\n",
    "                listPeople[iInfPid].IsInfected()\n",
    "\n",
    "NetworkMaterialization(listPeople, listPR, 'NetOrigInf')"
   ]
  },
  {
   "cell_type": "code",
   "execution_count": 14,
   "id": "dcdfb897-a72f-4526-9677-27e754de1e6e",
   "metadata": {},
   "outputs": [
    {
     "data": {
      "text/plain": [
       "3"
      ]
     },
     "execution_count": 14,
     "metadata": {},
     "output_type": "execute_result"
    }
   ],
   "source": [
    "len(list(filter(lambda x: x.boolIfInf == False, listPeople)))"
   ]
  },
  {
   "cell_type": "code",
   "execution_count": 15,
   "id": "a1cc719b-3d7d-4efb-aff3-b6ea9939a4e1",
   "metadata": {},
   "outputs": [],
   "source": [
    "# 以接觸最多人數選擇打疫苗族群的策略\n",
    "\n",
    "# 看需要多少接種接種比例，用這個比例算出在 iVaccDays 內每天要接種多少人的 list\n",
    "# 例如有 10 人要分 3 天接種，則得到 [3, 3, 4]\n",
    "# 這裡要注意，總人數乘以浮點數會變成浮點數，所以分批完以後會變成浮點數。\n",
    "# 而這個數字是要拿來做 slice 的 index ，這樣會出錯。\n",
    "# 所以要進行數字分批的時候要注意，輸入 getListChunks 的參數必須是整數（要 round 過）。\n",
    "listVaccChunks = getListChunks(round(len(listPeople) * floatVaccRatio), iVaccDays)\n",
    "\n",
    "# 重設 listPeople\n",
    "for person in listPeople:\n",
    "    person.ResetInfStatus()\n",
    "\n",
    "# 感染第一個人\n",
    "listPeople[iFirstInfPid].IsInfected()\n",
    "\n",
    "for day in range(iDays):\n",
    "    iVaccChunk = listVaccChunks.pop() if len(listVaccChunks) > 0 else 0\n",
    "    listTopNPidsWithContactCntNoVacc = getListTopNGrpByContactCntNoVacc(listPeople, listPR, iTopN=iVaccChunk,\n",
    "                                                                  boolSortContactCntReverse=True)\n",
    "    # 挑出要打疫苗的族群 Pids\n",
    "    listPidsForVacc = list(map(lambda x: x[0], listTopNPidsWithContactCntNoVacc))\n",
    "    # 每天幫接觸最多人的族群前 N 名打疫苗\n",
    "    for PidForVac in listPidsForVacc:\n",
    "        listPeople[PidForVac].boolIfVacc = True\n",
    "\n",
    "    # 找出有打疫苗的 people\n",
    "    listPeopleVacc = list(filter(lambda x: x.boolIfVacc is True, listPeople))\n",
    "    # 建立有打疫苗的 pids list\n",
    "    listPidsVacc = list(map(lambda x: x.pid, listPeopleVacc))\n",
    "\n",
    "    for person in listPeople:\n",
    "        if person.boolIfVacc == True:\n",
    "            continue\n",
    "        # 挑出跟這個人有關係的 pids\n",
    "        listMightBeInfPids = getRelatePidsWithThisMan(person.pid, listPR)\n",
    "        # 從關係者清單中挖掉打過疫苗的人，剩下的就是可以感染的人\n",
    "        listMightBeInfPidsNoVacc = list(filter(lambda x: x not in listPidsVacc, listMightBeInfPids))\n",
    "\n",
    "        # 如果被感染就感染天數開始加一，這個天數會影響感染機率\n",
    "        if person.boolIfInf is True:\n",
    "            person.iInfDays += 1\n",
    "        # 如果感染機率大於 0 ，就開始感染過程。\n",
    "        # 首先依照被感染天數決定感染機率\n",
    "        person.floatInfProbability = dictInfectivity.get(person.iInfDays, 0)\n",
    "\n",
    "        if person.floatInfProbability > 0:\n",
    "            # 根據這個人的感染機率隨機挑人\n",
    "            listBeInfPids = random.sample(listMightBeInfPidsNoVacc,\n",
    "                                          k=round(len(listMightBeInfPidsNoVacc) * person.floatInfProbability))\n",
    "            for iInfPid in listBeInfPids:\n",
    "                listPeople[iInfPid].IsInfected()\n",
    "                    \n",
    "NetworkMaterialization(listPeople, listPR, 'NetVaccByContactCntDesc')"
   ]
  },
  {
   "cell_type": "code",
   "execution_count": 16,
   "id": "1500f224-4a83-4603-9e4b-98679eb953b3",
   "metadata": {},
   "outputs": [
    {
     "data": {
      "text/plain": [
       "382"
      ]
     },
     "execution_count": 16,
     "metadata": {},
     "output_type": "execute_result"
    }
   ],
   "source": [
    "len(list(filter(lambda x: x.boolIfInf == False, listPeople)))"
   ]
  },
  {
   "cell_type": "code",
   "execution_count": 17,
   "id": "37b1f132-11e6-4a3e-a17e-a801f3112273",
   "metadata": {},
   "outputs": [],
   "source": [
    "# 以接觸最多人數選擇打疫苗族群的策略\n",
    "\n",
    "# 看需要多少接種接種比例，用這個比例算出在 iVaccDays 內每天要接種多少人的 list\n",
    "# 例如有 10 人要分 3 天接種，則得到 [3, 3, 4]\n",
    "# 這裡要注意，總人數乘以浮點數會變成浮點數，所以分批完以後會變成浮點數。\n",
    "# 而這個數字是要拿來做 slice 的 index ，這樣會出錯。\n",
    "# 所以要進行數字分批的時候要注意，輸入 getListChunks 的參數必須是整數（要 round 過）。\n",
    "listVaccChunks = getListChunks(round(len(listPeople) * floatVaccRatio), iVaccDays)\n",
    "\n",
    "# 重設 listPeople\n",
    "for person in listPeople:\n",
    "    person.ResetInfStatus()\n",
    "\n",
    "# 感染第一個人\n",
    "listPeople[iFirstInfPid].IsInfected()\n",
    "\n",
    "for day in range(iDays):\n",
    "    iVaccChunk = listVaccChunks.pop() if len(listVaccChunks) > 0 else 0\n",
    "    listTopNPidsWithContactCntNoVacc = getListTopNGrpByContactCntNoVacc(listPeople, listPR, iTopN=iVaccChunk,\n",
    "                                                                  boolSortContactCntReverse=False)\n",
    "    # 挑出要打疫苗的族群 Pids\n",
    "    listPidsForVacc = list(map(lambda x: x[0], listTopNPidsWithContactCntNoVacc))\n",
    "    # 每天幫接觸最多人的族群前 N 名打疫苗\n",
    "    for PidForVac in listPidsForVacc:\n",
    "        listPeople[PidForVac].boolIfVacc = True\n",
    "\n",
    "    # 找出有打疫苗的 people\n",
    "    listPeopleVacc = list(filter(lambda x: x.boolIfVacc is True, listPeople))\n",
    "    # 建立有打疫苗的 pids list\n",
    "    listPidsVacc = list(map(lambda x: x.pid, listPeopleVacc))\n",
    "\n",
    "    for person in listPeople:\n",
    "        if person.boolIfVacc == True:\n",
    "            continue\n",
    "        # 挑出跟這個人有關係的 pids\n",
    "        listMightBeInfPids = getRelatePidsWithThisMan(person.pid, listPR)\n",
    "        # 從關係者清單中挖掉打過疫苗的人，剩下的就是可以感染的人\n",
    "        listMightBeInfPidsNoVacc = list(filter(lambda x: x not in listPidsVacc, listMightBeInfPids))\n",
    "\n",
    "        # 如果被感染就感染天數開始加一，這個天數會影響感染機率\n",
    "        if person.boolIfInf is True:\n",
    "            person.iInfDays += 1\n",
    "        # 如果感染機率大於 0 ，就開始感染過程。\n",
    "        # 首先依照被感染天數決定感染機率\n",
    "        person.floatInfProbability = dictInfectivity.get(person.iInfDays, 0)\n",
    "\n",
    "        if person.floatInfProbability > 0:\n",
    "            # 根據這個人的感染機率隨機挑人\n",
    "            listBeInfPids = random.sample(listMightBeInfPidsNoVacc,\n",
    "                                          k=round(len(listMightBeInfPidsNoVacc) * person.floatInfProbability))\n",
    "            for iInfPid in listBeInfPids:\n",
    "                listPeople[iInfPid].IsInfected()\n",
    "                    \n",
    "NetworkMaterialization(listPeople, listPR, 'NetVaccByContactCntAsc')"
   ]
  },
  {
   "cell_type": "code",
   "execution_count": 18,
   "id": "d7315eda-4c9e-46c5-8dcc-c2bc82dfbeec",
   "metadata": {},
   "outputs": [
    {
     "data": {
      "text/plain": [
       "173"
      ]
     },
     "execution_count": 18,
     "metadata": {},
     "output_type": "execute_result"
    }
   ],
   "source": [
    "len(list(filter(lambda x: x.boolIfInf == False, listPeople)))"
   ]
  },
  {
   "cell_type": "code",
   "execution_count": 19,
   "id": "bb68f39f-bdf9-476f-ac21-12839ded9afd",
   "metadata": {},
   "outputs": [],
   "source": [
    "connPR.close()"
   ]
  }
 ],
 "metadata": {
  "kernelspec": {
   "display_name": "Python 3",
   "language": "python",
   "name": "python3"
  },
  "language_info": {
   "codemirror_mode": {
    "name": "ipython",
    "version": 3
   },
   "file_extension": ".py",
   "mimetype": "text/x-python",
   "name": "python",
   "nbconvert_exporter": "python",
   "pygments_lexer": "ipython3",
   "version": "3.9.5"
  }
 },
 "nbformat": 4,
 "nbformat_minor": 5
}
