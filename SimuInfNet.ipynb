{
 "cells": [
  {
   "cell_type": "code",
   "execution_count": 1,
   "id": "d0c94c00-b87e-4e6d-b487-ea90f3415eaa",
   "metadata": {},
   "outputs": [],
   "source": [
    "import sqlite3\n",
    "import operator\n",
    "import random\n",
    "from functools import reduce\n",
    "from pyvis.network import Network\n",
    "from itertools import accumulate\n",
    "from math import floor\n",
    "from multiprocessing import Pool"
   ]
  },
  {
   "cell_type": "code",
   "execution_count": 2,
   "id": "8ca7fa01-9d0a-4b5f-ae98-2a6902b7f190",
   "metadata": {},
   "outputs": [],
   "source": [
    "# 圖片高度\n",
    "pxHeight='800px'\n",
    "# 圖片寬度\n",
    "ratioWidth='100%'\n",
    "# 背景顏色\n",
    "colorbBg='#222222'\n",
    "# 字體顏色\n",
    "colorNodeFont='white'\n",
    "\n",
    "# 預計開多少行程處理\n",
    "iProcNum = 3\n",
    "# 把感染的總工作量切成幾個 chunks(看是要切成行程數量的幾倍)\n",
    "iChunksNum = iProcNum + 1\n",
    "# 每一個行程最多可以等待的秒數\n",
    "iWaitWkrSec = 86400\n",
    "# 打疫苗之後的感染性\n",
    "floatVaccInfProb = 0.0\n",
    "# 被感染的節點顏色\n",
    "hexInfColor = '#fc0303'\n",
    "# 打過疫苗的節點顏色\n",
    "hexVaccColor = '#7cff0a'\n",
    "# 群體中想要接種的比例\n",
    "floatVaccRatio = 0.2\n",
    "\n",
    "# 從疫情開始到第一天打疫苗中間的天數，簡單的說就是疫情前面沒有打疫苗的天數\n",
    "iHeadDaysNoVacc = 0\n",
    "# 上面那個比例要分幾天打完（這個數字要 <= iDays）\n",
    "iVaccDays = 10\n",
    "# 打完疫苗以後剩下沒疫苗打的天數\n",
    "iTailDaysNoVacc = 0\n",
    "\n",
    "# 第一個被感染的人\n",
    "iFirstInfPid = 0\n",
    "\n",
    "# 底下是用在 random.uniform(low, up)\n",
    "# 最大可能接觸人數隨機微調係數下限值\n",
    "floatInfRandFactorLow = 0.9\n",
    "# 最大可能接觸人數隨機微調係數上限值\n",
    "floatInfRandFactorUpper = 1.0\n",
    "\n",
    "# 最大可能接觸人數(隔離政策從這裡調整)\n",
    "tupleMaxConn = (1, 3, 9, 49)\n",
    "# 最大可能接觸人數的權重（越大越可能被挑出來）\n",
    "tupleWtOfChoiceMaxConn = (2, 11, 13, 3)\n",
    "# 依感染天數決定感染力的字典\n",
    "dictInfectivity = {1: 0, 2: 0, 3: 0, 4: 0.6, 5: 0.7, 6: 0.6, 7: 0.4, 8: 0.2, 9: 0.1, 10: 0}\n",
    "# dictInfectivity = {1: 0, 2: 0, 3: 0, 4: 0.1, 5: 0.1, 6: 0.1, 7: 0.1, 8: 0.1, 9: 0.1, 10: 0}\n",
    "\n",
    "# 族群母數\n",
    "iPopCnt = 500"
   ]
  },
  {
   "cell_type": "code",
   "execution_count": 3,
   "id": "6e330271-8e02-4a72-9232-7674503ee973",
   "metadata": {},
   "outputs": [],
   "source": [
    "# parameter check\n",
    "# 先檢查總人數，如果小於等於 max(tupleMaxConn)，\n",
    "# 例如最大人數 49 ， max(tupleMaxConn) 也是 49 ，這樣是不行的\n",
    "# 因為總人數 49 ，剩下有可能接觸到最大人數就是 48\n",
    "assert(max(tupleMaxConn) < iPopCnt), '總人數扣除自己以後要 >= tupleMaxConn 的最大元素。'"
   ]
  },
  {
   "cell_type": "code",
   "execution_count": 4,
   "id": "5e87c2d4-a9d3-48b6-8d32-d3efb7861ace",
   "metadata": {},
   "outputs": [],
   "source": [
    "class Person:\n",
    "    def __init__(self, iPid, iInfDays=0, boolInfFlag=False, floatInfProb=0.0, boolVaccFlag=False, ):\n",
    "        self.pid = iPid\n",
    "        self.boolIfInf = boolInfFlag\n",
    "        self.boolIfVacc = boolVaccFlag\n",
    "        self.floatInfProbability = floatInfProb\n",
    "        self.iInfDays = iInfDays\n",
    "        self.iMaxConnCount = random.choices(tupleMaxConn, tupleWtOfChoiceMaxConn)[0]\n",
    "        # 建立好所有人與人關係之後才填入\n",
    "        self.listMayContactPids = []\n",
    "\n",
    "    def IsInfected(self):\n",
    "        self.boolIfInf = True\n",
    "\n",
    "    def IsVacced(self):\n",
    "        self.boolIfVacc = True\n",
    "        self.floatInfProbability = floatVaccInfProb\n",
    "\n",
    "    def ResetInfStatus(self):\n",
    "        self.boolIfInf = False\n",
    "        self.boolIfVacc = False\n",
    "        self.floatInfProbability = 0.0\n",
    "        self.iInfDays = 0"
   ]
  },
  {
   "cell_type": "code",
   "execution_count": 5,
   "id": "48519afc-f1a6-46d9-a7fb-6349ef29ca5f",
   "metadata": {},
   "outputs": [],
   "source": [
    "# 找出跟這個人有關的所有關係人\n",
    "# (除了他跟別人建立關係，別人也會跟他建立關係，這裡會找出雙向關係然後去重複)\n",
    "def getRelatePidsWithThisMan(iPid, listAllPopRels):\n",
    "    listRelsWithThisPerson = list(filter(lambda x: x[0] == iPid or x[1] == iPid, listAllPopRels))\n",
    "    if listRelsWithThisPerson == []:\n",
    "        return []\n",
    "    # 挑出跟這個人有關的人際關係\n",
    "    listGrpMightBeInf = list(set(reduce(lambda x, y: x + y, listRelsWithThisPerson)))\n",
    "    # 因為是用 reduce 產生 listGrpMightBeInf，所以底下要移除這個 iPid\n",
    "    listGrpMightBeInf.remove(iPid)\n",
    "    return listGrpMightBeInf\n",
    "\n",
    "\n",
    "def NetworkMaterialization(listAllPop, listAllPopRels, sNetworkName):\n",
    "    netPRInf = Network(height=pxHeight, width=ratioWidth, bgcolor=colorbBg, font_color=colorNodeFont)\n",
    "    for person in listAllPop:\n",
    "        if person.boolIfInf == True:\n",
    "            netPRInf.add_node(person.pid, title=str(person.pid), color=hexInfColor, value=10)\n",
    "        elif person.boolIfVacc == True:\n",
    "            netPRInf.add_node(person.pid, title=str(person.pid), color=hexVaccColor, value=10)\n",
    "        else:\n",
    "            netPRInf.add_node(person.pid, title=str(person.pid), value=10)\n",
    "\n",
    "    for relation in listAllPopRels:\n",
    "        netPRInf.add_edge(relation[0], relation[1])\n",
    "\n",
    "    netPRInf.barnes_hut()\n",
    "    netPRInf.show(f'{sNetworkName}.html')\n",
    "\n",
    "\n",
    "# 把要接種疫苗的總人數依要接種的天數分批\n",
    "def getListChunkNums(iToBeDivided, iChunkCnt):\n",
    "    if iChunkCnt == 0:\n",
    "        return []\n",
    "    iStep = floor(iToBeDivided / iChunkCnt)\n",
    "    listChunks = [iStep] * iChunkCnt\n",
    "    listChunks[-1] += iToBeDivided - sum(listChunks)\n",
    "    return sorted(listChunks, reverse=True)\n",
    "\n",
    "\n",
    "def getlistChunkPids(iTotal, iDivideGrpNo):\n",
    "    listChunkCutNums = list(accumulate([0] + getListChunkNums(iTotal, iDivideGrpNo), operator.add))\n",
    "    listTmpA = listChunkCutNums[0:-1]\n",
    "    listTmpB = listChunkCutNums[1:]\n",
    "    listTupleChunkCut = list(zip(listTmpA, listTmpB))\n",
    "    listReturn = []\n",
    "    for tupleChunkCut in listTupleChunkCut:\n",
    "        listChunkPids = [pid for pid in range(tupleChunkCut[0], tupleChunkCut[1])]\n",
    "        listReturn.append(listChunkPids)\n",
    "    return listReturn\n",
    "\n",
    "\n",
    "# （接種策略）找出接觸最多\n",
    "#       1. 沒打過疫苗(才有傳染可能)\n",
    "#       2. 沒有被感染(才能打疫苗)\n",
    "#   的人群的人\n",
    "def getListTopNGrpByContactCntNoVacc(listAllPop, iTopN=100, boolSortContactCntReverse=True):\n",
    "    listPidWithContactCnt = []\n",
    "    # 取出沒有打過疫苗且沒有被感染的 pids ，因為這些人是要打疫苗的\n",
    "    # 但是因為感染的太快，所以有可能會沒辦法打到想要的人數比例。\n",
    "    listAllNotVaccNotInfPids = list(\n",
    "        map(lambda x: x.pid, filter(lambda x: x.boolIfVacc is False and x.boolIfInf is False, listAllPop)))\n",
    "    # 取出打過疫苗的 pids\n",
    "    listAllVaccPids = list(map(lambda y: y.pid, filter(lambda x: x.boolIfVacc is True, listAllPop)))\n",
    "\n",
    "    # 這裡計算排列依據的接觸人數有個重點，\n",
    "    # （策略）要把會接觸到的人中挖掉打過疫苗的人\n",
    "    # 但是不能挖掉被感染的人，因為這種人會讓接種候選者感染機會增加，\n",
    "    # 而這些人又剛好是接觸人群比較多的人，所以不能挖掉。\n",
    "    for intPid in listAllNotVaccNotInfPids:\n",
    "        # 把會接觸到的人中挖掉打過疫苗的人\n",
    "        listMightBeInfPids = list(filter(lambda x: x not in listAllVaccPids, listAllPop[intPid].listMayContactPids))\n",
    "        listPidWithContactCnt.append((intPid, len(listMightBeInfPids)))\n",
    "    # 0 號不能打疫苗，是第一位感染者。\n",
    "    listPidWithContactCnt = list(filter(lambda x: x[0] != 0, listPidWithContactCnt))\n",
    "    listTopNPidsByContactCnt = sorted(listPidWithContactCnt, key=lambda x: x[1], reverse=boolSortContactCntReverse)[\n",
    "                               0:iTopN]\n",
    "    return listTopNPidsByContactCnt\n",
    "\n",
    "\n",
    "# 一開始決定人與人關係的函數 (以這個人為出發點單向的和別人建立關係)\n",
    "# 在這裡建立人與人關係的時候會去掉自己跟自己建立關係\n",
    "def GetListPopRels(listPop):\n",
    "    listPopRels = []\n",
    "    for person in listPop:\n",
    "        # 把 person 挑掉\n",
    "        listPeopleWithoutThisMan = [x for x in listPop if x.pid != person.pid]\n",
    "        # 根據隨機選出的 MaxConn 數目挑出可能接觸的 pid\n",
    "        listPopConnTo = random.sample(listPeopleWithoutThisMan, k=person.iMaxConnCount)\n",
    "\n",
    "        for PersonConnTo in listPopConnTo:\n",
    "            if person.pid < PersonConnTo.pid:\n",
    "                tuplePR = (person.pid, PersonConnTo.pid)\n",
    "            else:\n",
    "                tuplePR = (PersonConnTo.pid, person.pid)\n",
    "            listPopRels.append(tuplePR)\n",
    "    listPopRels = list(set(listPopRels))\n",
    "    return listPopRels\n",
    "\n",
    "\n",
    "def wkrDealSubInfNet(chunk_Pids, dict_InfOddsByDay, float_InfOddsModFactorLow, float_InfOddsModFactorUpper, list_Pop,\n",
    "                     list_VaccPids):\n",
    "    listForReturn = []\n",
    "    for iPid in chunk_Pids:\n",
    "        person = list_Pop[iPid]\n",
    "        if person.boolIfVacc == True:\n",
    "            continue\n",
    "        # 從關係者清單中挖掉打過疫苗的人，剩下的就是可以感染的人\n",
    "        listMightBeInfPidsNoVacc = list(filter(lambda x: x not in list_VaccPids, person.listMayContactPids))\n",
    "\n",
    "        # 如果被感染且感染天數是 0 就下一個 iteration\n",
    "        # 在換天的時候，會幫每個已經受感染的人天數加 1\n",
    "        if person.boolIfInf is True and person.iInfDays == 0:\n",
    "            continue\n",
    "\n",
    "        # 首先依照被感染天數決定感染機率\n",
    "        person.floatInfProbability = dict_InfOddsByDay.get(person.iInfDays, 0)\n",
    "\n",
    "        listBeInfPids = []\n",
    "        # 如果感染機率大於 0 ，就開始感染過程。\n",
    "        if person.floatInfProbability > 0:\n",
    "            # # min 的第一個參數是沒有接種可能被感染的人數，會越來越少，所以不加微調參數\n",
    "            # # 第二個參數是隨機算出的最大接觸人數\n",
    "            # # 這裡是算出每天會接觸到的可能被感染的大概人數\n",
    "            # iSampleSize = round(\n",
    "            #     min(\n",
    "            #         len(listMightBeInfPidsNoVacc),\n",
    "            #         person.iMaxConnCount\n",
    "            #     ) * random.uniform(float_InfOddsModFactorLow, float_InfOddsModFactorUpper)\n",
    "            # )\n",
    "\n",
    "            # 這裡是算出每天會接觸到的可能被感染的大概人數\n",
    "            iSampleSize = round(person.iMaxConnCount * random.uniform(float_InfOddsModFactorLow, float_InfOddsModFactorUpper))\n",
    "            # 取出這些人\n",
    "            assert(iSampleSize <= len(person.listMayContactPids)), 'iSampleSize <= len(person.listMayContactPids is necessary'\n",
    "            listBeContactedPids = random.sample(person.listMayContactPids, k=iSampleSize)\n",
    "            for i_pid in listBeContactedPids:\n",
    "                if i_pid not in listMightBeInfPidsNoVacc:\n",
    "                    continue\n",
    "                else:\n",
    "                    boolTmpIfBeInf = random.choices([True, False], [person.floatInfProbability, 1-person.floatInfProbability], k=1)[0]\n",
    "                    if boolTmpIfBeInf is True:\n",
    "                        listBeInfPids.append(i_pid)\n",
    "        listForReturn += listBeInfPids\n",
    "    return listForReturn\n",
    "\n",
    "\n",
    "def InfSimu(listPop, listPopRels, floatVaccRrac=floatVaccRatio,\n",
    "            iNoVaccHeadDays=iHeadDaysNoVacc, iVaccDividedays=iVaccDays, iNoVaccTailDays=iTailDaysNoVacc,\n",
    "            i1stInfPid=iFirstInfPid, boolIfSortContactCntReverse=True,\n",
    "            dictInfOddsByDay=dictInfectivity,\n",
    "            floatInfOddsModFactorLow=floatInfRandFactorLow, floatInfOddsModFactorUpper=floatInfRandFactorUpper):\n",
    "    # 看需要多少接種接種比例，用這個比例算出在 iVaccDays 內每天要接種多少人的 list\n",
    "    # 例如有 10 人要分 3 天接種，則得到 [3, 3, 4]\n",
    "    # 這裡要注意，總人數乘以浮點數會變成浮點數，所以分批完以後會變成浮點數。\n",
    "    # 而這個數字是要拿來做 slice 的 index ，這樣會出錯。\n",
    "    # 所以要進行數字分批的時候要注意，輸入 getListChunks 的參數必須是整數（要 round 過）。\n",
    "    iObservAfterdays = iNoVaccHeadDays + iVaccDividedays + iNoVaccTailDays\n",
    "    listVaccChunkCnts = [0] * iNoVaccHeadDays + getListChunkNums(round(len(listPop) * floatVaccRrac),\n",
    "                                                                 iVaccDividedays) + [0] * iNoVaccTailDays\n",
    "\n",
    "    # 重設 listPeople\n",
    "    for person in listPop:\n",
    "        person.ResetInfStatus()\n",
    "    # 感染第一個人\n",
    "    listPop[i1stInfPid].IsInfected()\n",
    "\n",
    "    # 多行程處理感染\n",
    "    with Pool(iProcNum) as poolProc:\n",
    "        for day in range(iObservAfterdays):\n",
    "            # 先幫被感染的人天數加 1\n",
    "            for p in listPop:\n",
    "                if p.boolIfInf is True:\n",
    "                    p.iInfDays += 1\n",
    "\n",
    "            # 在每一天開始的時候從 listVaccChunkCnts 中挑一個數字出來決定要幫多少人打疫苗\n",
    "            iVaccChunk = listVaccChunkCnts.pop(0) if len(listVaccChunkCnts) > 0 else 0\n",
    "\n",
    "            # 每天依照接觸不同人數作排序，挑出要打疫苗的 (pids, ContactCnt)\n",
    "            # (因為每天打疫苗都是隨機變動的，\n",
    "            # 所以雖然我知道哪些人會接觸最多人是固定的，\n",
    "            # 但是扣掉打疫苗之後就是會變動的，所以要每天重排。)\n",
    "            listTopNPidsWithContactCntNoVacc = getListTopNGrpByContactCntNoVacc(listPop, iTopN=iVaccChunk,\n",
    "                                                                                boolSortContactCntReverse=boolIfSortContactCntReverse)\n",
    "            # 分離要打疫苗族群的 Pids\n",
    "            listPidsForVacc = list(map(lambda x: x[0], listTopNPidsWithContactCntNoVacc))\n",
    "            # 每天的打疫苗步驟\n",
    "            for PidForVac in listPidsForVacc:\n",
    "                listPop[PidForVac].boolIfVacc = True\n",
    "\n",
    "            # 每天建立有打疫苗的 pids list\n",
    "            listPidsVacc = list(map(lambda y: y.pid, filter(lambda x: x.boolIfVacc is True, listPop)))\n",
    "\n",
    "            # 依照多行程的行程數目決定要把全部人分成幾個 chunks\n",
    "            listInfNetChunks = getlistChunkPids(len(listPop), iChunksNum)\n",
    "            # 設定非同步執行多行程找出今天被感染的 pids\n",
    "            listTmpInfResult = [poolProc.apply_async(wkrDealSubInfNet, (chunkPids, dictInfOddsByDay, floatInfOddsModFactorLow, floatInfOddsModFactorUpper, listPop,\n",
    "                                                                        listPidsVacc)) for chunkPids in listInfNetChunks]\n",
    "            # 把每個行程中今天被感染的 pids 取回來\n",
    "            listInfResultChunks = [res.get(timeout=iWaitWkrSec) for res in listTmpInfResult]\n",
    "\n",
    "            # 把取回來的每個子 list 合併成一個大的(去重複並且排序)\n",
    "            listInfThisDayPids = sorted(list(set(reduce(lambda acc, x: acc + x, listInfResultChunks))))\n",
    "            if listInfThisDayPids == []:\n",
    "                continue\n",
    "            for iPid in listInfThisDayPids:\n",
    "                listPop[iPid].IsInfected()\n",
    "\n",
    "    return listPop, listPopRels\n",
    "\n",
    "\n",
    "def wkrGetRelationsForPid(listChunkPids, listAllPopRels):\n",
    "    listPidWithCintacts = []\n",
    "    for iPid in listChunkPids:\n",
    "        list_MayContactPids = getRelatePidsWithThisMan(iPid, listAllPopRels)\n",
    "        listPidWithCintacts.append((iPid, list_MayContactPids))\n",
    "    return listPidWithCintacts"
   ]
  },
  {
   "cell_type": "code",
   "execution_count": 6,
   "id": "fc976d45-80a7-420a-9a75-6fdd5d99e4cf",
   "metadata": {},
   "outputs": [],
   "source": [
    "connPR = sqlite3.connect('./PeopleRelation.db')\n",
    "cur = connPR.cursor()"
   ]
  },
  {
   "cell_type": "code",
   "execution_count": 7,
   "id": "bf8ab046-86d4-41c8-92a7-1e7c25aaa5f8",
   "metadata": {},
   "outputs": [
    {
     "data": {
      "text/plain": [
       "<sqlite3.Cursor at 0x7facb0ef4340>"
      ]
     },
     "execution_count": 7,
     "metadata": {},
     "output_type": "execute_result"
    }
   ],
   "source": [
    "# drop 所有表格\n",
    "cur.execute('drop table if exists Relation')\n",
    "cur.execute('drop table if exists People')"
   ]
  },
  {
   "cell_type": "code",
   "execution_count": 8,
   "id": "bff9eef9-6126-4549-96c0-84409298fb61",
   "metadata": {},
   "outputs": [
    {
     "data": {
      "text/plain": [
       "<sqlite3.Cursor at 0x7facb0ef4340>"
      ]
     },
     "execution_count": 8,
     "metadata": {},
     "output_type": "execute_result"
    }
   ],
   "source": [
    "cur.execute(\n",
    "'''\n",
    "    create table if not exists People( pid integer not null primary key )\n",
    "''')\n",
    "\n",
    "cur.execute(\n",
    "'''\n",
    "    create table if not exists Relation( pid integer not null,\n",
    "    pidconn integer not null,\n",
    "    primary key(pid,\n",
    "    pidconn),\n",
    "    foreign key (pid) references People(pid),\n",
    "    foreign key (pidconn) references People(pid) )\n",
    "''')"
   ]
  },
  {
   "cell_type": "code",
   "execution_count": 9,
   "id": "a866f485-580c-4df7-a977-e5d7f72043e3",
   "metadata": {},
   "outputs": [],
   "source": [
    "# Jupyter 中不用\n",
    "# if __name__ == '__main__':\n",
    "listPeople = [Person(x) for x in range(iPopCnt)]"
   ]
  },
  {
   "cell_type": "code",
   "execution_count": 10,
   "id": "d4ac0de4-7fcc-4257-8c5f-21679115c3d7",
   "metadata": {},
   "outputs": [],
   "source": [
    "# insert data into table People\n",
    "for person in listPeople:\n",
    "    cur.execute(f'insert into People values({person.pid})')\n",
    "connPR.commit()"
   ]
  },
  {
   "cell_type": "code",
   "execution_count": 11,
   "id": "0764f390-3692-4d6e-91f9-0a29e44e4cb9",
   "metadata": {},
   "outputs": [],
   "source": [
    "# 模擬人與人之間的接觸關係\n",
    "listPR = GetListPopRels(listPeople)\n",
    "\n",
    "# 幫每個人填入他有機會遇到的所有 pids\n",
    "listChunksForMp = getlistChunkPids(len(listPeople), iProcNum)\n",
    "\n",
    "with Pool(processes=iProcNum) as pool:\n",
    "    listTuplePidWithContacts = [pool.apply_async(wkrGetRelationsForPid, (listChunkPids, listPR)) for listChunkPids in listChunksForMp]\n",
    "    listChunkResults = [res.get(timeout=iWaitWkrSec) for res in listTuplePidWithContacts]\n",
    "listTuplePidWithContacts = reduce(lambda acc, x: acc + x, listChunkResults)\n",
    "for tuplePidWithContacts in listTuplePidWithContacts:\n",
    "    listPeople[tuplePidWithContacts[0]].listMayContactPids = tuplePidWithContacts[1]"
   ]
  },
  {
   "cell_type": "code",
   "execution_count": 12,
   "id": "a7cb0713-14e4-4950-b1b6-331e5f559a1d",
   "metadata": {},
   "outputs": [],
   "source": [
    "cur.executemany('insert into Relation values(?, ?)', listPR)\n",
    "connPR.commit()"
   ]
  },
  {
   "cell_type": "code",
   "execution_count": 13,
   "id": "0d8b5463-a431-45c6-8339-8977a46162d8",
   "metadata": {},
   "outputs": [],
   "source": [
    "# 畫出未受感染的群體\n",
    "NetworkMaterialization(listPeople, listPR, 'NetOrig')"
   ]
  },
  {
   "cell_type": "code",
   "execution_count": 14,
   "id": "08b7e20d-c080-4a6a-91ae-0cd67f3c38c6",
   "metadata": {},
   "outputs": [],
   "source": [
    "# 未施予疫苗保護的群體\n",
    "listPeople, listPR = InfSimu(listPeople, listPR, floatVaccRrac=0)\n",
    "NetworkMaterialization(listPeople, listPR, 'NetOrigInf')"
   ]
  },
  {
   "cell_type": "code",
   "execution_count": 15,
   "id": "dcdfb897-a72f-4526-9677-27e754de1e6e",
   "metadata": {},
   "outputs": [
    {
     "data": {
      "text/plain": [
       "124"
      ]
     },
     "execution_count": 15,
     "metadata": {},
     "output_type": "execute_result"
    }
   ],
   "source": [
    "len(list(filter(lambda x: x.boolIfInf == False, listPeople)))"
   ]
  },
  {
   "cell_type": "code",
   "execution_count": 16,
   "id": "37b1f132-11e6-4a3e-a17e-a801f3112273",
   "metadata": {},
   "outputs": [],
   "source": [
    "# 以接觸最少人數選擇打疫苗族群的策略\n",
    "listPeople, listPR = InfSimu(listPeople, listPR, boolIfSortContactCntReverse=False)\n",
    "NetworkMaterialization(listPeople, listPR, 'NetVaccByContactCntAsc')"
   ]
  },
  {
   "cell_type": "code",
   "execution_count": 17,
   "id": "1500f224-4a83-4603-9e4b-98679eb953b3",
   "metadata": {},
   "outputs": [
    {
     "data": {
      "text/plain": [
       "161"
      ]
     },
     "execution_count": 17,
     "metadata": {},
     "output_type": "execute_result"
    }
   ],
   "source": [
    "len(list(filter(lambda x: x.boolIfInf == False, listPeople)))"
   ]
  },
  {
   "cell_type": "code",
   "execution_count": 18,
   "id": "a1cc719b-3d7d-4efb-aff3-b6ea9939a4e1",
   "metadata": {},
   "outputs": [],
   "source": [
    "# 以接觸最多人數選擇打疫苗族群的策略\n",
    "listPeople, listPR = InfSimu(listPeople, listPR)           \n",
    "NetworkMaterialization(listPeople, listPR, 'NetVaccByContactCntDesc')"
   ]
  },
  {
   "cell_type": "code",
   "execution_count": 19,
   "id": "d7315eda-4c9e-46c5-8dcc-c2bc82dfbeec",
   "metadata": {},
   "outputs": [
    {
     "data": {
      "text/plain": [
       "316"
      ]
     },
     "execution_count": 19,
     "metadata": {},
     "output_type": "execute_result"
    }
   ],
   "source": [
    "len(list(filter(lambda x: x.boolIfInf == False, listPeople)))"
   ]
  },
  {
   "cell_type": "code",
   "execution_count": 20,
   "id": "bb68f39f-bdf9-476f-ac21-12839ded9afd",
   "metadata": {},
   "outputs": [],
   "source": [
    "connPR.close()"
   ]
  }
 ],
 "metadata": {
  "kernelspec": {
   "display_name": "Python 3",
   "language": "python",
   "name": "python3"
  },
  "language_info": {
   "codemirror_mode": {
    "name": "ipython",
    "version": 3
   },
   "file_extension": ".py",
   "mimetype": "text/x-python",
   "name": "python",
   "nbconvert_exporter": "python",
   "pygments_lexer": "ipython3",
   "version": "3.9.5"
  }
 },
 "nbformat": 4,
 "nbformat_minor": 5
}
