{
 "cells": [
  {
   "cell_type": "code",
   "execution_count": 1,
   "id": "d0c94c00-b87e-4e6d-b487-ea90f3415eaa",
   "metadata": {},
   "outputs": [],
   "source": [
    "import sqlite3\n",
    "import random\n",
    "from pyvis.network import Network\n",
    "import networkx as nx\n",
    "from functools import reduce"
   ]
  },
  {
   "cell_type": "code",
   "execution_count": 2,
   "id": "8ca7fa01-9d0a-4b5f-ae98-2a6902b7f190",
   "metadata": {},
   "outputs": [],
   "source": [
    "iOrigInfProb = 0.3\n",
    "iVaccInfProb = 0\n",
    "HexInfColor = '#fc0303'\n",
    "# 第一個被感染的人\n",
    "iFirstInfPid = 0\n",
    "\n",
    "iDays = 2\n",
    "iPopCnt = 500\n",
    "iMaxConn = 10\n",
    "listPR = []"
   ]
  },
  {
   "cell_type": "code",
   "execution_count": 3,
   "id": "5e87c2d4-a9d3-48b6-8d32-d3efb7861ace",
   "metadata": {},
   "outputs": [],
   "source": [
    "class Person:\n",
    "    def __init__(self, iPid, boolInfFlag=False, floatInfProbability=0, boolIfVacc=False):\n",
    "        self.pid = iPid\n",
    "        self.boolIfInf = boolInfFlag\n",
    "        self.boolIfVacc = boolIfVacc\n",
    "        self.floatInfProbability = floatInfProbability\n",
    "        \n",
    "    def IsInfected(self):\n",
    "        self.boolIfInf = True\n",
    "        self.floatInfProbability = iOrigInfProb\n",
    "        \n",
    "    def IsVacced(self):\n",
    "        self.boolIfVacc = True\n",
    "        self.boolIfInf = False\n",
    "        self.floatInfProbability = iVaccInfProb\n",
    "        \n",
    "    def ResetInfStatus(self):\n",
    "        self.boolIfInf = False\n",
    "        self.floatInfProbability = 0\n",
    "        self.boolIfVacc=False"
   ]
  },
  {
   "cell_type": "code",
   "execution_count": 4,
   "id": "fc976d45-80a7-420a-9a75-6fdd5d99e4cf",
   "metadata": {},
   "outputs": [],
   "source": [
    "connPR = sqlite3.connect('PeopleRelation.db')\n",
    "cur = connPR.cursor()"
   ]
  },
  {
   "cell_type": "code",
   "execution_count": 5,
   "id": "bf8ab046-86d4-41c8-92a7-1e7c25aaa5f8",
   "metadata": {},
   "outputs": [
    {
     "data": {
      "text/plain": [
       "<sqlite3.Cursor at 0x7f2b87e318f0>"
      ]
     },
     "execution_count": 5,
     "metadata": {},
     "output_type": "execute_result"
    }
   ],
   "source": [
    "# drop 所有表格\n",
    "cur.execute('drop table if exists Relation')\n",
    "cur.execute('drop table if exists People')"
   ]
  },
  {
   "cell_type": "code",
   "execution_count": 6,
   "id": "bff9eef9-6126-4549-96c0-84409298fb61",
   "metadata": {},
   "outputs": [
    {
     "data": {
      "text/plain": [
       "<sqlite3.Cursor at 0x7f2b87e318f0>"
      ]
     },
     "execution_count": 6,
     "metadata": {},
     "output_type": "execute_result"
    }
   ],
   "source": [
    "cur.execute(\n",
    "'''\n",
    "    create table if not exists People( pid integer not null primary key )\n",
    "''')\n",
    "\n",
    "cur.execute(\n",
    "'''\n",
    "    create table if not exists Relation( pid integer not null,\n",
    "    pidconn integer not null,\n",
    "    primary key(pid,\n",
    "    pidconn),\n",
    "    foreign key (pid) references People(pid),\n",
    "    foreign key (pidconn) references People(pid) )\n",
    "''')"
   ]
  },
  {
   "cell_type": "code",
   "execution_count": 7,
   "id": "a866f485-580c-4df7-a977-e5d7f72043e3",
   "metadata": {},
   "outputs": [],
   "source": [
    "listPeople = [Person(x) for x in range(iPopCnt)]"
   ]
  },
  {
   "cell_type": "code",
   "execution_count": 8,
   "id": "d4ac0de4-7fcc-4257-8c5f-21679115c3d7",
   "metadata": {},
   "outputs": [],
   "source": [
    "# insert data into table People\n",
    "for person in listPeople:\n",
    "    cur.execute(f'insert into People values({person.pid})')\n",
    "connPR.commit()"
   ]
  },
  {
   "cell_type": "code",
   "execution_count": 9,
   "id": "0764f390-3692-4d6e-91f9-0a29e44e4cb9",
   "metadata": {},
   "outputs": [],
   "source": [
    "# 模擬人與人之間的接觸關係\n",
    "listPR = []\n",
    "for person in listPeople:\n",
    "    iRandconnCnt = random.randint(0, iMaxConn)\n",
    "    listPidConnTo = random.choices(listPeople, k=iRandconnCnt)\n",
    "    for PersonConnTo in listPidConnTo:\n",
    "        listPR.append((person.pid, PersonConnTo.pid))\n",
    "listPR = list(set(listPR))"
   ]
  },
  {
   "cell_type": "code",
   "execution_count": 10,
   "id": "a7cb0713-14e4-4950-b1b6-331e5f559a1d",
   "metadata": {},
   "outputs": [],
   "source": [
    "cur.executemany('insert into Relation values(?, ?)', listPR)\n",
    "connPR.commit()"
   ]
  },
  {
   "cell_type": "code",
   "execution_count": 11,
   "id": "0d8b5463-a431-45c6-8339-8977a46162d8",
   "metadata": {},
   "outputs": [],
   "source": [
    "netPR = Network(height='750px', width='100%', bgcolor='#222222', font_color='white')\n",
    "\n",
    "for person in listPeople:\n",
    "    netPR.add_node(person.pid, title=str(person.pid), value=10)\n",
    "\n",
    "for relation in listPR:\n",
    "    netPR.add_edge(relation[0], relation[1])\n",
    "\n",
    "netPR.barnes_hut()\n",
    "netPR.show('mygraph.html')"
   ]
  },
  {
   "cell_type": "code",
   "execution_count": 12,
   "id": "08b7e20d-c080-4a6a-91ae-0cd67f3c38c6",
   "metadata": {},
   "outputs": [],
   "source": [
    "netPRInf = Network(height='750px', width='100%', bgcolor='#222222', font_color='white')\n",
    "\n",
    "listPeople[iFirstInfPid].IsInfected()\n",
    "\n",
    "for day in range(iDays):\n",
    "    for person in listPeople:\n",
    "        listRelationsWithThisPerson = list(filter(lambda x: x[0] == person.pid or x[1] == person.pid, listPR))\n",
    "        # 挑出跟這個人有關的人際關係\n",
    "        listMightBeInfPids = list(set(reduce(lambda x, y: x + y, listRelationsWithThisPerson)))\n",
    "        # 移除這個人\n",
    "        listMightBeInfPids.remove(person.pid)\n",
    "        # 如果感染機率大於 0 ，就開始感染過程。\n",
    "        if person.floatInfProbability > 0:\n",
    "            # 根據這個人的感染機率隨機挑人\n",
    "            listBeInfPids = random.choices(listMightBeInfPids, k=round(len(listMightBeInfPids) * person.floatInfProbability))\n",
    "            for iInfPid in listBeInfPids:\n",
    "                listPeople[iInfPid].IsInfected()\n",
    "\n",
    "                    \n",
    "for person in listPeople:\n",
    "    if person.boolIfInf == True:\n",
    "        netPRInf.add_node(person.pid, title=str(person.pid), color=HexInfColor, value=10)\n",
    "    else:\n",
    "        netPRInf.add_node(person.pid, title=str(person.pid), value=10)\n",
    "\n",
    "for relation in listPR:\n",
    "    netPRInf.add_edge(relation[0], relation[1])\n",
    "\n",
    "netPRInf.barnes_hut()\n",
    "netPRInf.show('InfGraph.html')"
   ]
  }
 ],
 "metadata": {
  "kernelspec": {
   "display_name": "Python 3",
   "language": "python",
   "name": "python3"
  },
  "language_info": {
   "codemirror_mode": {
    "name": "ipython",
    "version": 3
   },
   "file_extension": ".py",
   "mimetype": "text/x-python",
   "name": "python",
   "nbconvert_exporter": "python",
   "pygments_lexer": "ipython3",
   "version": "3.9.5"
  }
 },
 "nbformat": 4,
 "nbformat_minor": 5
}
